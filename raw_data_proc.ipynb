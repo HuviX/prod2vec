{
 "cells": [
  {
   "cell_type": "code",
   "execution_count": 1,
   "metadata": {},
   "outputs": [
    {
     "data": {
      "text/html": [
       "<div>\n",
       "<style scoped>\n",
       "    .dataframe tbody tr th:only-of-type {\n",
       "        vertical-align: middle;\n",
       "    }\n",
       "\n",
       "    .dataframe tbody tr th {\n",
       "        vertical-align: top;\n",
       "    }\n",
       "\n",
       "    .dataframe thead th {\n",
       "        text-align: right;\n",
       "    }\n",
       "</style>\n",
       "<table border=\"1\" class=\"dataframe\">\n",
       "  <thead>\n",
       "    <tr style=\"text-align: right;\">\n",
       "      <th></th>\n",
       "      <th>session_id</th>\n",
       "      <th>item_id</th>\n",
       "      <th>action_type</th>\n",
       "    </tr>\n",
       "  </thead>\n",
       "  <tbody>\n",
       "    <tr>\n",
       "      <th>0</th>\n",
       "      <td>0</td>\n",
       "      <td>184878281</td>\n",
       "      <td>view</td>\n",
       "    </tr>\n",
       "    <tr>\n",
       "      <th>1</th>\n",
       "      <td>0</td>\n",
       "      <td>167969574</td>\n",
       "      <td>view</td>\n",
       "    </tr>\n",
       "    <tr>\n",
       "      <th>2</th>\n",
       "      <td>0</td>\n",
       "      <td>166174833</td>\n",
       "      <td>order</td>\n",
       "    </tr>\n",
       "    <tr>\n",
       "      <th>3</th>\n",
       "      <td>1</td>\n",
       "      <td>179765848</td>\n",
       "      <td>view</td>\n",
       "    </tr>\n",
       "    <tr>\n",
       "      <th>4</th>\n",
       "      <td>1</td>\n",
       "      <td>193869023</td>\n",
       "      <td>view</td>\n",
       "    </tr>\n",
       "  </tbody>\n",
       "</table>\n",
       "</div>"
      ],
      "text/plain": [
       "  session_id    item_id action_type\n",
       "0          0  184878281        view\n",
       "1          0  167969574        view\n",
       "2          0  166174833       order\n",
       "3          1  179765848        view\n",
       "4          1  193869023        view"
      ]
     },
     "execution_count": 1,
     "metadata": {},
     "output_type": "execute_result"
    }
   ],
   "source": [
    "import pickle\n",
    "\n",
    "import json\n",
    "import numpy as np\n",
    "import pandas as pd\n",
    "import scipy.sparse as sp\n",
    "import scipy\n",
    "import gc\n",
    "\n",
    "with open('raw_data/sessions.json', 'r') as f:\n",
    "    sessions = json.load(f)\n",
    "\n",
    "session_ids = []\n",
    "items = []\n",
    "action_types = []\n",
    "for i in sessions:\n",
    "    session = sessions[str(i)]['session']\n",
    "    for item_id, action_type in session.items():\n",
    "        session_ids.append(i)\n",
    "        items.append(item_id)\n",
    "        action_types.append(action_type)\n",
    "    for item_id in sessions[str(i)]['order']:\n",
    "        session_ids.append(i)\n",
    "        items.append(item_id)\n",
    "        action_types.append('order')\n",
    "        \n",
    "df = pd.DataFrame({'session_id': session_ids, 'item_id': items, 'action_type': action_types})\n",
    "del session_ids, items, action_types, sessions\n",
    "df.head()"
   ]
  },
  {
   "cell_type": "code",
   "execution_count": 2,
   "metadata": {},
   "outputs": [],
   "source": [
    "uniq_items = df['item_id'].unique()\n",
    "item_mapping = pd.DataFrame({'old': uniq_items, 'new': np.arange(uniq_items.shape[0])})\n",
    "\n",
    "df['item_id'] = df['item_id'].map(item_mapping.set_index('old').new)\n",
    "df['session_id'] = df['session_id'].astype('uint32')\n",
    "df.head()\n",
    "\n",
    "item_mapping['old'] = item_mapping['old'].astype('str')\n",
    "item_mapping['new'] = item_mapping['new'].astype('int')\n",
    "item_mapping.index.name = 'index'\n",
    "#item_mapping.to_csv('item_mapping.csv', index=False)\n",
    "\n",
    "shape = (df['session_id'].max() + 1, df['item_id'].max() + 1)\n",
    "\n",
    "# из df возьмем только view\n",
    "condition = (df['action_type'] == 'view')\n",
    "session_item_view = sp.csr_matrix(\n",
    "    (np.ones(np.sum(condition)), (df.loc[condition, 'session_id'], df.loc[condition, 'item_id'])),\n",
    "    shape=shape\n",
    ")\n",
    "\n",
    "condition = (df['action_type'] == 'to_cart')\n",
    "session_item_cart_add = sp.csr_matrix(\n",
    "    (np.ones(np.sum(condition)), (df.loc[condition, 'session_id'], df.loc[condition, 'item_id'])),\n",
    "    shape=shape\n",
    ")\n",
    "\n",
    "condition = (df['action_type'] == 'order')\n",
    "session_order = sp.csr_matrix(\n",
    "    (np.ones(np.sum(condition)), (df.loc[condition, 'session_id'], df.loc[condition, 'item_id'])),\n",
    "    shape=shape\n",
    ")\n"
   ]
  },
  {
   "cell_type": "code",
   "execution_count": 3,
   "metadata": {},
   "outputs": [],
   "source": [
    "from collections import Counter\n",
    "\n",
    "for act in ['view', 'order', 'to_cart']:\n",
    "    un = df[df.action_type==act]['item_id'].values\n",
    "    cntr = Counter(un)\n",
    "    with open('data/num_of_'+act+'.pkl', 'wb') as handle:\n",
    "        pickle.dump(cntr, handle)"
   ]
  },
  {
   "cell_type": "code",
   "execution_count": 4,
   "metadata": {},
   "outputs": [],
   "source": [
    "vals = df[df.action_type=='order']['item_id'].values\n",
    "\n",
    "cntr = Counter(vals)\n",
    "\n",
    "top50 = [i[0] for i in cntr.most_common(60)][10:]"
   ]
  },
  {
   "cell_type": "code",
   "execution_count": 5,
   "metadata": {},
   "outputs": [],
   "source": [
    "with open('data/top50.pkl', 'wb') as handle:\n",
    "    pickle.dump(top50, handle)"
   ]
  },
  {
   "cell_type": "code",
   "execution_count": 6,
   "metadata": {},
   "outputs": [],
   "source": [
    "processed_df = pd.DataFrame()\n",
    "view_df = df[df['action_type']=='view'].groupby('session_id')['item_id'].agg(list)\n",
    "cart_df = df[df['action_type']=='to_cart'].groupby('session_id')['item_id'].agg(list)\n",
    "order_df = df[df['action_type']=='order'].groupby('session_id')['item_id'].agg(list)\n",
    "\n",
    "processed_df['view'] = view_df\n",
    "processed_df['cart'] = cart_df\n",
    "processed_df['order'] = order_df\n",
    "\n",
    "view_df.map(lambda x: [str(i) for i in x]).to_pickle(\"w2vec/train_df/view_df.pkl\")\n",
    "del view_df\n",
    "\n",
    "\n",
    "cart_df.map(lambda x: [str(i) for i in x]).to_pickle(\"w2vec/train_df/cart_df.pkl\")\n",
    "del cart_df\n",
    "del order_df"
   ]
  },
  {
   "cell_type": "code",
   "execution_count": 12,
   "metadata": {},
   "outputs": [],
   "source": [
    "processed_df['cart'] = processed_df['cart'].fillna({i: [] for i in processed_df.index})\n",
    "processed_df['view'] = processed_df['view'].fillna({i: [] for i in processed_df.index})\n",
    "processed_df['order'] = processed_df['order'].fillna({i: [] for i in processed_df.index})"
   ]
  },
  {
   "cell_type": "code",
   "execution_count": 14,
   "metadata": {},
   "outputs": [],
   "source": [
    "processed_df.to_json('data/processed.json')\n",
    "del processed_df"
   ]
  },
  {
   "cell_type": "code",
   "execution_count": 7,
   "metadata": {},
   "outputs": [],
   "source": [
    "scipy.sparse.save_npz('data/session_order.npz', session_order)\n",
    "del session_order\n",
    "scipy.sparse.save_npz('data/session_item_cart_add.npz', session_item_cart_add)\n",
    "scipy.sparse.save_npz('data/session_item_view.npz', session_item_view)"
   ]
  },
  {
   "cell_type": "code",
   "execution_count": 8,
   "metadata": {},
   "outputs": [
    {
     "data": {
      "text/html": [
       "<div>\n",
       "<style scoped>\n",
       "    .dataframe tbody tr th:only-of-type {\n",
       "        vertical-align: middle;\n",
       "    }\n",
       "\n",
       "    .dataframe tbody tr th {\n",
       "        vertical-align: top;\n",
       "    }\n",
       "\n",
       "    .dataframe thead th {\n",
       "        text-align: right;\n",
       "    }\n",
       "</style>\n",
       "<table border=\"1\" class=\"dataframe\">\n",
       "  <thead>\n",
       "    <tr style=\"text-align: right;\">\n",
       "      <th></th>\n",
       "      <th>old</th>\n",
       "      <th>new</th>\n",
       "    </tr>\n",
       "    <tr>\n",
       "      <th>index</th>\n",
       "      <th></th>\n",
       "      <th></th>\n",
       "    </tr>\n",
       "  </thead>\n",
       "  <tbody>\n",
       "    <tr>\n",
       "      <th>0</th>\n",
       "      <td>184878281</td>\n",
       "      <td>0</td>\n",
       "    </tr>\n",
       "    <tr>\n",
       "      <th>1</th>\n",
       "      <td>167969574</td>\n",
       "      <td>1</td>\n",
       "    </tr>\n",
       "    <tr>\n",
       "      <th>2</th>\n",
       "      <td>166174833</td>\n",
       "      <td>2</td>\n",
       "    </tr>\n",
       "    <tr>\n",
       "      <th>3</th>\n",
       "      <td>179765848</td>\n",
       "      <td>3</td>\n",
       "    </tr>\n",
       "    <tr>\n",
       "      <th>4</th>\n",
       "      <td>193869023</td>\n",
       "      <td>4</td>\n",
       "    </tr>\n",
       "  </tbody>\n",
       "</table>\n",
       "</div>"
      ],
      "text/plain": [
       "             old  new\n",
       "index                \n",
       "0      184878281    0\n",
       "1      167969574    1\n",
       "2      166174833    2\n",
       "3      179765848    3\n",
       "4      193869023    4"
      ]
     },
     "execution_count": 8,
     "metadata": {},
     "output_type": "execute_result"
    }
   ],
   "source": [
    "item_mapping.head()"
   ]
  },
  {
   "cell_type": "code",
   "execution_count": 9,
   "metadata": {},
   "outputs": [
    {
     "data": {
      "text/plain": [
       "80"
      ]
     },
     "execution_count": 9,
     "metadata": {},
     "output_type": "execute_result"
    }
   ],
   "source": [
    "item_mapping = dict(zip(item_mapping['new'].values, item_mapping['old'].values))\n",
    "reverse_mapping = dict(zip( item_mapping.values(), item_mapping.keys()))\n",
    "\n",
    "del df\n",
    "gc.collect()"
   ]
  },
  {
   "cell_type": "code",
   "execution_count": 10,
   "metadata": {},
   "outputs": [],
   "source": [
    "from sklearn.metrics.pairwise import cosine_similarity\n",
    "\n",
    "similarities_view = cosine_similarity(session_item_view.transpose(), dense_output=False)\n",
    "similarities_cart_add = cosine_similarity(session_item_cart_add.transpose(), dense_output=False)"
   ]
  },
  {
   "cell_type": "code",
   "execution_count": 11,
   "metadata": {},
   "outputs": [
    {
     "name": "stderr",
     "output_type": "stream",
     "text": [
      "/home/huvi/anaconda3/envs/ozon/lib/python3.8/site-packages/scipy/sparse/_index.py:124: SparseEfficiencyWarning: Changing the sparsity structure of a csr_matrix is expensive. lil_matrix is more efficient.\n",
      "  self._set_arrayXarray(i, j, x)\n"
     ]
    }
   ],
   "source": [
    "similarities_cart_add.setdiag(0)\n",
    "sp.save_npz(\"similarities_cart_add.npz\", similarities_cart_add)\n",
    "similarities_view.setdiag(0)\n",
    "sp.save_npz(\"similarities_view.npz\", similarities_view)"
   ]
  },
  {
   "cell_type": "code",
   "execution_count": 12,
   "metadata": {},
   "outputs": [
    {
     "name": "stdout",
     "output_type": "stream",
     "text": [
      "На товар https://www.ozon.ru/context/detail/id/169944532 похоже:\n",
      "\n",
      "https://www.ozon.ru/context/detail/id/169944533 0.1721989151177004\n",
      "https://www.ozon.ru/context/detail/id/193371968 0.15811388300841897\n",
      "https://www.ozon.ru/context/detail/id/178971727 0.15811388300841897\n",
      "https://www.ozon.ru/context/detail/id/197898963 0.15811388300841897\n",
      "https://www.ozon.ru/context/detail/id/155313449 0.15811388300841897\n",
      "https://www.ozon.ru/context/detail/id/148781474 0.15811388300841897\n",
      "https://www.ozon.ru/context/detail/id/193893809 0.15811388300841897\n",
      "https://www.ozon.ru/context/detail/id/177719900 0.15811388300841897\n",
      "https://www.ozon.ru/context/detail/id/193893799 0.15811388300841897\n",
      "https://www.ozon.ru/context/detail/id/183198135 0.15811388300841897\n"
     ]
    }
   ],
   "source": [
    "def get_top_k(item_id: int, k: int):\n",
    "    new_item_id = reverse_mapping[item_id]\n",
    "    flat_view = similarities_view[:, new_item_id].toarray()\n",
    "    flat_cart = similarities_cart_add[:, new_item_id].toarray()\n",
    "    top_views = np.argpartition(flat_view, kth=np.arange(-k,0), axis=0)[-k-1:-1]\n",
    "    top_cart = np.argpartition(flat_cart, kth=np.arange(-k,0), axis=0)[-k-1:-1]\n",
    "    a = []\n",
    "    b = []\n",
    "    for ind in top_views:\n",
    "        a.append([item_mapping[ind[0]], similarities_view[ind[0],new_item_id]])\n",
    "    for ind in top_cart:\n",
    "        b.append([item_mapping[ind[0]], similarities_cart_add[ind[0],new_item_id]])\n",
    "    return a, b\n",
    "\n",
    "product_id = '169944532'\n",
    "num_of_recommendations = 10\n",
    "\n",
    "based_on_views, based_on_cart_adds = get_top_k(product_id, num_of_recommendations)\n",
    "\n",
    "def fancy_print(inp, product_id):\n",
    "    print(f\"На товар https://www.ozon.ru/context/detail/id/{product_id} похоже:\")\n",
    "    print()\n",
    "    for prod_id, sim in reversed(inp):\n",
    "        print(f\"https://www.ozon.ru/context/detail/id/{prod_id}\", sim)\n",
    "\n",
    "fancy_print(based_on_views, product_id)"
   ]
  },
  {
   "cell_type": "code",
   "execution_count": 13,
   "metadata": {
    "scrolled": true
   },
   "outputs": [
    {
     "name": "stdout",
     "output_type": "stream",
     "text": [
      "На товар https://www.ozon.ru/context/detail/id/169944532 похоже:\n",
      "\n",
      "https://www.ozon.ru/context/detail/id/165274038 0.35355339059327373\n",
      "https://www.ozon.ru/context/detail/id/161724606 0.35355339059327373\n",
      "https://www.ozon.ru/context/detail/id/154788558 0.35355339059327373\n",
      "https://www.ozon.ru/context/detail/id/184292790 0.35355339059327373\n",
      "https://www.ozon.ru/context/detail/id/180556158 0.35355339059327373\n",
      "https://www.ozon.ru/context/detail/id/190516574 0.24999999999999994\n",
      "https://www.ozon.ru/context/detail/id/160282937 0.24999999999999994\n",
      "https://www.ozon.ru/context/detail/id/154503461 0.17677669529663687\n",
      "https://www.ozon.ru/context/detail/id/157682045 0.17677669529663687\n",
      "https://www.ozon.ru/context/detail/id/162088977 0.15811388300841894\n"
     ]
    }
   ],
   "source": [
    "fancy_print(based_on_cart_adds, product_id)"
   ]
  },
  {
   "cell_type": "code",
   "execution_count": 23,
   "metadata": {},
   "outputs": [
    {
     "name": "stdout",
     "output_type": "stream",
     "text": [
      "/home/huvi/Documents/Python/ozon/prod2vec_all_in_one/data\n"
     ]
    }
   ],
   "source": [
    "cd data"
   ]
  },
  {
   "cell_type": "code",
   "execution_count": 24,
   "metadata": {},
   "outputs": [],
   "source": [
    "import pickle\n",
    "\n",
    "with open(\"item_mapping.pkl\", \"wb\") as handle:\n",
    "    pickle.dump(item_mapping, handle)\n",
    "with open(\"reverse_mapping.pkl\", \"wb\") as handle:\n",
    "    pickle.dump(reverse_mapping, handle)"
   ]
  },
  {
   "cell_type": "code",
   "execution_count": 25,
   "metadata": {},
   "outputs": [
    {
     "name": "stdout",
     "output_type": "stream",
     "text": [
      "categories.pkl    new2old_dict.pkl  processed.json\r\n",
      "df_features.pkl   num_of_carts.pkl  reverse_mapping.pkl\r\n",
      "df_scores.pkl     num_of_views.pkl  session_item_cart_add.npz\r\n",
      "exploded_df.pkl   old2new_dict.pkl  session_item_view.npz\r\n",
      "exp_test.pkl      PAB_cart.npz      session_order.npz\r\n",
      "exp_train.pkl     PAB_view.npz      similarities_cart_add.npz\r\n",
      "item_mapping.csv  PB_cart.npy       similarities_view.npz\r\n",
      "item_mapping.pkl  PB_view.npy       top50.txt\r\n"
     ]
    }
   ],
   "source": [
    "ls"
   ]
  }
 ],
 "metadata": {
  "kernelspec": {
   "display_name": "Python 3",
   "language": "python",
   "name": "python3"
  },
  "language_info": {
   "codemirror_mode": {
    "name": "ipython",
    "version": 3
   },
   "file_extension": ".py",
   "mimetype": "text/x-python",
   "name": "python",
   "nbconvert_exporter": "python",
   "pygments_lexer": "ipython3",
   "version": "3.8.5"
  }
 },
 "nbformat": 4,
 "nbformat_minor": 4
}
