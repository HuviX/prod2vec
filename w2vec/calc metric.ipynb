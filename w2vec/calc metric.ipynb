{
 "cells": [
  {
   "cell_type": "code",
   "execution_count": 38,
   "metadata": {},
   "outputs": [],
   "source": [
    "import pandas as pd\n",
    "import numpy as np\n",
    "from utils import load_model, get_prediction_for_session\n",
    "import gensim\n",
    "from gensim.models import Word2Vec\n",
    "import gc\n",
    "from metrics import map_at_k, mean_ndcg"
   ]
  },
  {
   "cell_type": "code",
   "execution_count": 2,
   "metadata": {},
   "outputs": [],
   "source": [
    "cart_model = load_model(\"pretrained_models/cart.model\")\n",
    "view_model = load_model(\"pretrained_models/view.model\")"
   ]
  },
  {
   "cell_type": "code",
   "execution_count": 3,
   "metadata": {},
   "outputs": [],
   "source": [
    "df = pd.read_json('../non_train_data/processed.json')"
   ]
  },
  {
   "cell_type": "code",
   "execution_count": null,
   "metadata": {},
   "outputs": [],
   "source": [
    "from tqdm import tqdm_notebook\n",
    "predictions = []\n",
    "actual = []\n",
    "for i, (view, cart, order) in tqdm_notebook(df[:1000].iterrows()):\n",
    "    session = {'views': view, 'to_cart': cart}\n",
    "    prediction = get_prediction_for_session(view_model, cart_model, session, n=20)\n",
    "    predictions.append(prediction)\n",
    "    actual.append(order)"
   ]
  },
  {
   "cell_type": "code",
   "execution_count": 42,
   "metadata": {},
   "outputs": [],
   "source": [
    "def avg_precision(actual, predicted, k = 10):\n",
    "    k = min(k, len(actual))\n",
    "    score = 0.0\n",
    "    true_predictions = 0.0\n",
    "    for i,predict in enumerate(predicted[:k]):\n",
    "        if predict in actual:\n",
    "            true_predictions += 1.0\n",
    "            score += true_predictions / (i+1.0)\n",
    "    return score / k\n",
    "\n",
    "\n",
    "def map_at_k(df: pd.DataFrame, k = 10):\n",
    "    true, predictions = df.values.T\n",
    "    ap_at_k = [avg_precision(act, pred, k) for act, pred in zip(true, predictions)]\n",
    "    return np.mean(ap_at_k)"
   ]
  },
  {
   "cell_type": "code",
   "execution_count": 34,
   "metadata": {},
   "outputs": [
    {
     "name": "stderr",
     "output_type": "stream",
     "text": [
      "/home/huvi/anaconda3/envs/howto/lib/python3.7/site-packages/numpy/lib/arraysetops.py:580: FutureWarning: elementwise comparison failed; returning scalar instead, but in the future will perform elementwise comparison\n",
      "  mask |= (ar1 == a)\n"
     ]
    }
   ],
   "source": [
    "data = pd.read_csv('../non_train_data/sessions.csv', index_col=0)\n",
    "data.head()\n",
    "\n",
    "cart_data = data[(data.action_type == 'to_cart')]\n",
    "from collections import Counter\n",
    "cntr = Counter(cart_data.item_id.values)\n",
    "\n",
    "tops = [str(i[0]) for i in cntr.most_common(40)]\n",
    "naive_prediction = [tops] * 1000"
   ]
  },
  {
   "cell_type": "code",
   "execution_count": 43,
   "metadata": {
    "scrolled": true
   },
   "outputs": [
    {
     "name": "stdout",
     "output_type": "stream",
     "text": [
      "0.00017291568352954326\n",
      "0.0005676609598604483\n"
     ]
    }
   ],
   "source": [
    "to_evaluate = pd.DataFrame({'actual':actual, 'preds':naive_prediction})\n",
    "print(mean_ndcg(to_evaluate, k=40))\n",
    "print(map_at_k(to_evaluate, k=40))"
   ]
  },
  {
   "cell_type": "code",
   "execution_count": 44,
   "metadata": {
    "scrolled": true
   },
   "outputs": [
    {
     "name": "stdout",
     "output_type": "stream",
     "text": [
      "0.0018028898698115544\n",
      "0.015233346949891067\n"
     ]
    }
   ],
   "source": [
    "to_evaluate = pd.DataFrame({'actual':actual, 'preds':predictions})\n",
    "print(mean_ndcg(to_evaluate, k=40))\n",
    "print(map_at_k(to_evaluate, k=40))"
   ]
  },
  {
   "cell_type": "code",
   "execution_count": null,
   "metadata": {},
   "outputs": [],
   "source": []
  }
 ],
 "metadata": {
  "kernelspec": {
   "display_name": "Python 3",
   "language": "python",
   "name": "python3"
  },
  "language_info": {
   "codemirror_mode": {
    "name": "ipython",
    "version": 3
   },
   "file_extension": ".py",
   "mimetype": "text/x-python",
   "name": "python",
   "nbconvert_exporter": "python",
   "pygments_lexer": "ipython3",
   "version": "3.8.5"
  }
 },
 "nbformat": 4,
 "nbformat_minor": 4
}
