{
 "cells": [
  {
   "cell_type": "code",
   "execution_count": 1,
   "metadata": {},
   "outputs": [],
   "source": [
    "import pandas as pd\n",
    "from metrics import map_at_k"
   ]
  },
  {
   "cell_type": "code",
   "execution_count": 2,
   "metadata": {},
   "outputs": [],
   "source": [
    "prediction_df = pd.read_pickle(\"prediction_df.pkl\")\n",
    "df = pd.read_pickle(\"data/df_features.pkl\")"
   ]
  },
  {
   "cell_type": "code",
   "execution_count": 3,
   "metadata": {
    "scrolled": true
   },
   "outputs": [
    {
     "data": {
      "text/html": [
       "<div>\n",
       "<style scoped>\n",
       "    .dataframe tbody tr th:only-of-type {\n",
       "        vertical-align: middle;\n",
       "    }\n",
       "\n",
       "    .dataframe tbody tr th {\n",
       "        vertical-align: top;\n",
       "    }\n",
       "\n",
       "    .dataframe thead th {\n",
       "        text-align: right;\n",
       "    }\n",
       "</style>\n",
       "<table border=\"1\" class=\"dataframe\">\n",
       "  <thead>\n",
       "    <tr style=\"text-align: right;\">\n",
       "      <th></th>\n",
       "      <th>item_id</th>\n",
       "    </tr>\n",
       "    <tr>\n",
       "      <th>index</th>\n",
       "      <th></th>\n",
       "    </tr>\n",
       "  </thead>\n",
       "  <tbody>\n",
       "    <tr>\n",
       "      <th>1</th>\n",
       "      <td>[182435597, 34407052, 34407051, 149074294, 249...</td>\n",
       "    </tr>\n",
       "    <tr>\n",
       "      <th>14</th>\n",
       "      <td>[169790392, 178833143, 160946361, 161133617, 1...</td>\n",
       "    </tr>\n",
       "    <tr>\n",
       "      <th>16</th>\n",
       "      <td>[182435597, 150615336, 149074294, 167629094, 1...</td>\n",
       "    </tr>\n",
       "    <tr>\n",
       "      <th>24</th>\n",
       "      <td>[170817055, 182726559, 181310716, 181310149, 1...</td>\n",
       "    </tr>\n",
       "    <tr>\n",
       "      <th>28</th>\n",
       "      <td>[173412566, 182435597, 149074294, 147569237, 1...</td>\n",
       "    </tr>\n",
       "  </tbody>\n",
       "</table>\n",
       "</div>"
      ],
      "text/plain": [
       "                                                 item_id\n",
       "index                                                   \n",
       "1      [182435597, 34407052, 34407051, 149074294, 249...\n",
       "14     [169790392, 178833143, 160946361, 161133617, 1...\n",
       "16     [182435597, 150615336, 149074294, 167629094, 1...\n",
       "24     [170817055, 182726559, 181310716, 181310149, 1...\n",
       "28     [173412566, 182435597, 149074294, 147569237, 1..."
      ]
     },
     "execution_count": 3,
     "metadata": {},
     "output_type": "execute_result"
    }
   ],
   "source": [
    "prediction_df.head()"
   ]
  },
  {
   "cell_type": "code",
   "execution_count": 4,
   "metadata": {
    "scrolled": false
   },
   "outputs": [
    {
     "data": {
      "text/html": [
       "<div>\n",
       "<style scoped>\n",
       "    .dataframe tbody tr th:only-of-type {\n",
       "        vertical-align: middle;\n",
       "    }\n",
       "\n",
       "    .dataframe tbody tr th {\n",
       "        vertical-align: top;\n",
       "    }\n",
       "\n",
       "    .dataframe thead th {\n",
       "        text-align: right;\n",
       "    }\n",
       "</style>\n",
       "<table border=\"1\" class=\"dataframe\">\n",
       "  <thead>\n",
       "    <tr style=\"text-align: right;\">\n",
       "      <th></th>\n",
       "      <th>view</th>\n",
       "      <th>to_cart</th>\n",
       "      <th>orders</th>\n",
       "      <th>w2vec_pred</th>\n",
       "      <th>cos_pred</th>\n",
       "      <th>top_pred</th>\n",
       "      <th>avg_w2vec</th>\n",
       "      <th>avg_cosine</th>\n",
       "      <th>sum_w2vec</th>\n",
       "      <th>sum_cosine</th>\n",
       "      <th>len_of_w2vec</th>\n",
       "      <th>len_of_cos</th>\n",
       "      <th>len_of_pred</th>\n",
       "      <th>ovr_pred</th>\n",
       "      <th>mean_ovr</th>\n",
       "      <th>sum_ovr</th>\n",
       "      <th>intersection_w2vec</th>\n",
       "      <th>intersection_cosine</th>\n",
       "    </tr>\n",
       "  </thead>\n",
       "  <tbody>\n",
       "    <tr>\n",
       "      <th>0</th>\n",
       "      <td>[166559554, 166559525, 166559550, 142559631]</td>\n",
       "      <td>[142559632]</td>\n",
       "      <td>[142559632, 166095148]</td>\n",
       "      <td>[(140448638, 0.7993724942207336), (176409126, ...</td>\n",
       "      <td>[(181026701, 0.6422285251880866), (186188980, ...</td>\n",
       "      <td>[182435597, 149074294, 29575310, 19148624, 145...</td>\n",
       "      <td>0.662745</td>\n",
       "      <td>0.369746</td>\n",
       "      <td>33.137252</td>\n",
       "      <td>18.487313</td>\n",
       "      <td>50</td>\n",
       "      <td>50</td>\n",
       "      <td>100</td>\n",
       "      <td>[(140448638, 0.7993724942207336), (176409126, ...</td>\n",
       "      <td>0.516246</td>\n",
       "      <td>51.624565</td>\n",
       "      <td>0</td>\n",
       "      <td>0</td>\n",
       "    </tr>\n",
       "    <tr>\n",
       "      <th>1</th>\n",
       "      <td>[170622666, 34407052, 24915451, 190326015]</td>\n",
       "      <td>[24915460, 184556745, 161247313]</td>\n",
       "      <td>[24915460, 161247313]</td>\n",
       "      <td>[(161018441, 0.8862515687942505), (155947684, ...</td>\n",
       "      <td>[(152031860, 0.5079019341303296), (146361603, ...</td>\n",
       "      <td>[182435597, 149074294, 29575310, 19148624, 145...</td>\n",
       "      <td>0.867270</td>\n",
       "      <td>0.283094</td>\n",
       "      <td>43.363501</td>\n",
       "      <td>14.154682</td>\n",
       "      <td>50</td>\n",
       "      <td>50</td>\n",
       "      <td>100</td>\n",
       "      <td>[(161018441, 0.8862515687942505), (155947684, ...</td>\n",
       "      <td>0.575182</td>\n",
       "      <td>57.518184</td>\n",
       "      <td>0</td>\n",
       "      <td>0</td>\n",
       "    </tr>\n",
       "    <tr>\n",
       "      <th>2</th>\n",
       "      <td>[185235203, 175519237, 180863367, 185235212, 1...</td>\n",
       "      <td>[155269764, 175547529, 185057101, 175547512]</td>\n",
       "      <td>[139595356]</td>\n",
       "      <td>[(175667819, 0.9404122829437256), (158962386, ...</td>\n",
       "      <td>[(173625647, 0.7071067811865475), (147058544, ...</td>\n",
       "      <td>[182435597, 149074294, 29575310, 19148624, 145...</td>\n",
       "      <td>0.921400</td>\n",
       "      <td>0.518065</td>\n",
       "      <td>46.070013</td>\n",
       "      <td>25.903259</td>\n",
       "      <td>50</td>\n",
       "      <td>50</td>\n",
       "      <td>100</td>\n",
       "      <td>[(175667819, 0.9404122829437256), (158962386, ...</td>\n",
       "      <td>0.719733</td>\n",
       "      <td>71.973273</td>\n",
       "      <td>0</td>\n",
       "      <td>0</td>\n",
       "    </tr>\n",
       "    <tr>\n",
       "      <th>3</th>\n",
       "      <td>[180297508, 179842474, 177424973, 175526165, 1...</td>\n",
       "      <td>[]</td>\n",
       "      <td>[180182546, 179202697]</td>\n",
       "      <td>[(174401844, 0.9392244815826416), (172418424, ...</td>\n",
       "      <td>[(182094767, 0.5), (194275132, 0.5), (18923012...</td>\n",
       "      <td>[182435597, 149074294, 29575310, 19148624, 145...</td>\n",
       "      <td>0.880290</td>\n",
       "      <td>0.288958</td>\n",
       "      <td>44.014478</td>\n",
       "      <td>14.447901</td>\n",
       "      <td>50</td>\n",
       "      <td>50</td>\n",
       "      <td>100</td>\n",
       "      <td>[(174401844, 0.9392244815826416), (172418424, ...</td>\n",
       "      <td>0.584624</td>\n",
       "      <td>58.462379</td>\n",
       "      <td>0</td>\n",
       "      <td>0</td>\n",
       "    </tr>\n",
       "    <tr>\n",
       "      <th>4</th>\n",
       "      <td>[154934140]</td>\n",
       "      <td>[154743795]</td>\n",
       "      <td>[174232846]</td>\n",
       "      <td>[]</td>\n",
       "      <td>[(169434308, 0.7071067811865475), (165180113, ...</td>\n",
       "      <td>[182435597, 149074294, 29575310, 19148624, 145...</td>\n",
       "      <td>NaN</td>\n",
       "      <td>0.436887</td>\n",
       "      <td>0.000000</td>\n",
       "      <td>2.621320</td>\n",
       "      <td>0</td>\n",
       "      <td>6</td>\n",
       "      <td>6</td>\n",
       "      <td>[(169434308, 0.7071067811865475), (165180113, ...</td>\n",
       "      <td>0.436887</td>\n",
       "      <td>2.621320</td>\n",
       "      <td>0</td>\n",
       "      <td>0</td>\n",
       "    </tr>\n",
       "  </tbody>\n",
       "</table>\n",
       "</div>"
      ],
      "text/plain": [
       "                                                view  \\\n",
       "0       [166559554, 166559525, 166559550, 142559631]   \n",
       "1         [170622666, 34407052, 24915451, 190326015]   \n",
       "2  [185235203, 175519237, 180863367, 185235212, 1...   \n",
       "3  [180297508, 179842474, 177424973, 175526165, 1...   \n",
       "4                                        [154934140]   \n",
       "\n",
       "                                        to_cart                  orders  \\\n",
       "0                                   [142559632]  [142559632, 166095148]   \n",
       "1              [24915460, 184556745, 161247313]   [24915460, 161247313]   \n",
       "2  [155269764, 175547529, 185057101, 175547512]             [139595356]   \n",
       "3                                            []  [180182546, 179202697]   \n",
       "4                                   [154743795]             [174232846]   \n",
       "\n",
       "                                          w2vec_pred  \\\n",
       "0  [(140448638, 0.7993724942207336), (176409126, ...   \n",
       "1  [(161018441, 0.8862515687942505), (155947684, ...   \n",
       "2  [(175667819, 0.9404122829437256), (158962386, ...   \n",
       "3  [(174401844, 0.9392244815826416), (172418424, ...   \n",
       "4                                                 []   \n",
       "\n",
       "                                            cos_pred  \\\n",
       "0  [(181026701, 0.6422285251880866), (186188980, ...   \n",
       "1  [(152031860, 0.5079019341303296), (146361603, ...   \n",
       "2  [(173625647, 0.7071067811865475), (147058544, ...   \n",
       "3  [(182094767, 0.5), (194275132, 0.5), (18923012...   \n",
       "4  [(169434308, 0.7071067811865475), (165180113, ...   \n",
       "\n",
       "                                            top_pred  avg_w2vec  avg_cosine  \\\n",
       "0  [182435597, 149074294, 29575310, 19148624, 145...   0.662745    0.369746   \n",
       "1  [182435597, 149074294, 29575310, 19148624, 145...   0.867270    0.283094   \n",
       "2  [182435597, 149074294, 29575310, 19148624, 145...   0.921400    0.518065   \n",
       "3  [182435597, 149074294, 29575310, 19148624, 145...   0.880290    0.288958   \n",
       "4  [182435597, 149074294, 29575310, 19148624, 145...        NaN    0.436887   \n",
       "\n",
       "   sum_w2vec  sum_cosine  len_of_w2vec  len_of_cos  len_of_pred  \\\n",
       "0  33.137252   18.487313            50          50          100   \n",
       "1  43.363501   14.154682            50          50          100   \n",
       "2  46.070013   25.903259            50          50          100   \n",
       "3  44.014478   14.447901            50          50          100   \n",
       "4   0.000000    2.621320             0           6            6   \n",
       "\n",
       "                                            ovr_pred  mean_ovr    sum_ovr  \\\n",
       "0  [(140448638, 0.7993724942207336), (176409126, ...  0.516246  51.624565   \n",
       "1  [(161018441, 0.8862515687942505), (155947684, ...  0.575182  57.518184   \n",
       "2  [(175667819, 0.9404122829437256), (158962386, ...  0.719733  71.973273   \n",
       "3  [(174401844, 0.9392244815826416), (172418424, ...  0.584624  58.462379   \n",
       "4  [(169434308, 0.7071067811865475), (165180113, ...  0.436887   2.621320   \n",
       "\n",
       "   intersection_w2vec  intersection_cosine  \n",
       "0                   0                    0  \n",
       "1                   0                    0  \n",
       "2                   0                    0  \n",
       "3                   0                    0  \n",
       "4                   0                    0  "
      ]
     },
     "execution_count": 4,
     "metadata": {},
     "output_type": "execute_result"
    }
   ],
   "source": [
    "df.head()"
   ]
  },
  {
   "cell_type": "code",
   "execution_count": 5,
   "metadata": {},
   "outputs": [],
   "source": [
    "new_df = prediction_df.merge(df.reset_index()[['index','orders']], on='index').\\\n",
    "drop(['index'], axis=1)[['orders','item_id']]"
   ]
  },
  {
   "cell_type": "code",
   "execution_count": 6,
   "metadata": {
    "scrolled": true
   },
   "outputs": [
    {
     "data": {
      "text/plain": [
       "0.21258179485798853"
      ]
     },
     "execution_count": 6,
     "metadata": {},
     "output_type": "execute_result"
    }
   ],
   "source": [
    "map_at_k(new_df, k=50)"
   ]
  },
  {
   "cell_type": "code",
   "execution_count": 7,
   "metadata": {},
   "outputs": [
    {
     "data": {
      "text/plain": [
       "0.21223625427138448"
      ]
     },
     "execution_count": 7,
     "metadata": {},
     "output_type": "execute_result"
    }
   ],
   "source": [
    "map_at_k(new_df, k=10)"
   ]
  },
  {
   "cell_type": "code",
   "execution_count": null,
   "metadata": {},
   "outputs": [],
   "source": []
  }
 ],
 "metadata": {
  "kernelspec": {
   "display_name": "Python 3",
   "language": "python",
   "name": "python3"
  },
  "language_info": {
   "codemirror_mode": {
    "name": "ipython",
    "version": 3
   },
   "file_extension": ".py",
   "mimetype": "text/x-python",
   "name": "python",
   "nbconvert_exporter": "python",
   "pygments_lexer": "ipython3",
   "version": "3.8.5"
  }
 },
 "nbformat": 4,
 "nbformat_minor": 4
}
