{
 "cells": [
  {
   "cell_type": "code",
   "execution_count": 1,
   "metadata": {},
   "outputs": [
    {
     "name": "stdout",
     "output_type": "stream",
     "text": [
      "INFO: Pandarallel will run on 8 workers.\n",
      "INFO: Pandarallel will use Memory file system to transfer data between the main process and workers.\n"
     ]
    }
   ],
   "source": [
    "import pandas as pd\n",
    "import numpy as np\n",
    "from transliterate import translit\n",
    "from pandarallel import pandarallel\n",
    "pandarallel.initialize(progress_bar=True)\n",
    "\n",
    "categories = pd.read_csv(\"raw_data/sess_item_categories.csv\")\n",
    "#titles = pd.read_csv(\"../combine_models/data/sess_titles.csv\")"
   ]
  },
  {
   "cell_type": "code",
   "execution_count": 7,
   "metadata": {},
   "outputs": [],
   "source": [
    "import pickle\n",
    "\n",
    "with open(\"data/reverse_mapping.pkl\", \"rb\") as handle:\n",
    "    mapping = pickle.load(handle)"
   ]
  },
  {
   "cell_type": "code",
   "execution_count": 11,
   "metadata": {},
   "outputs": [],
   "source": [
    "categories['itemid'] = categories['itemid'].astype(str).map(mapping)"
   ]
  },
  {
   "cell_type": "code",
   "execution_count": 12,
   "metadata": {},
   "outputs": [
    {
     "data": {
      "application/vnd.jupyter.widget-view+json": {
       "model_id": "76b16fd76c0040dfa2a9b6881efe6e03",
       "version_major": 2,
       "version_minor": 0
      },
      "text/plain": [
       "VBox(children=(HBox(children=(IntProgress(value=0, description='0.00%', max=272481), Label(value='0 / 272481')…"
      ]
     },
     "metadata": {},
     "output_type": "display_data"
    },
    {
     "data": {
      "application/vnd.jupyter.widget-view+json": {
       "model_id": "be1da680b7244c64bd977f2f684facfc",
       "version_major": 2,
       "version_minor": 0
      },
      "text/plain": [
       "VBox(children=(HBox(children=(IntProgress(value=0, description='0.00%', max=272481), Label(value='0 / 272481')…"
      ]
     },
     "metadata": {},
     "output_type": "display_data"
    }
   ],
   "source": [
    "def translit_en(x):\n",
    "    try:\n",
    "        tr = translit(x, 'ru', reversed=True)\n",
    "        return tr\n",
    "    except:\n",
    "        #print(x)\n",
    "        return None\n",
    "\n",
    "categories['category_name_1_level_en'] = categories['category_name_1_level'].parallel_apply(translit_en)\n",
    "categories['category_name_2_level_en'] = categories['category_name_2_level'].parallel_apply(translit_en)"
   ]
  },
  {
   "cell_type": "code",
   "execution_count": 14,
   "metadata": {},
   "outputs": [],
   "source": [
    "#categories['itemid'] = categories.itemid.astype(str)"
   ]
  },
  {
   "cell_type": "code",
   "execution_count": 15,
   "metadata": {},
   "outputs": [],
   "source": [
    "categories.drop(['category_id_1_level','category_id_2_level','category_name_1_level','category_name_2_level','catalogid'],axis=1,inplace=True)"
   ]
  },
  {
   "cell_type": "code",
   "execution_count": 16,
   "metadata": {},
   "outputs": [
    {
     "data": {
      "text/html": [
       "<div>\n",
       "<style scoped>\n",
       "    .dataframe tbody tr th:only-of-type {\n",
       "        vertical-align: middle;\n",
       "    }\n",
       "\n",
       "    .dataframe tbody tr th {\n",
       "        vertical-align: top;\n",
       "    }\n",
       "\n",
       "    .dataframe thead th {\n",
       "        text-align: right;\n",
       "    }\n",
       "</style>\n",
       "<table border=\"1\" class=\"dataframe\">\n",
       "  <thead>\n",
       "    <tr style=\"text-align: right;\">\n",
       "      <th></th>\n",
       "      <th>itemid</th>\n",
       "      <th>category_name_1_level_en</th>\n",
       "      <th>category_name_2_level_en</th>\n",
       "    </tr>\n",
       "  </thead>\n",
       "  <tbody>\n",
       "    <tr>\n",
       "      <th>0</th>\n",
       "      <td>1037267</td>\n",
       "      <td>Knigi</td>\n",
       "      <td>Bukinistika</td>\n",
       "    </tr>\n",
       "    <tr>\n",
       "      <th>1</th>\n",
       "      <td>965617</td>\n",
       "      <td>Knigi</td>\n",
       "      <td>Hudozhestvennaja literatura</td>\n",
       "    </tr>\n",
       "    <tr>\n",
       "      <th>2</th>\n",
       "      <td>965617</td>\n",
       "      <td>Knigi</td>\n",
       "      <td>Bukinistika</td>\n",
       "    </tr>\n",
       "    <tr>\n",
       "      <th>3</th>\n",
       "      <td>627638</td>\n",
       "      <td>Knigi</td>\n",
       "      <td>Bukinistika</td>\n",
       "    </tr>\n",
       "    <tr>\n",
       "      <th>4</th>\n",
       "      <td>627638</td>\n",
       "      <td>Knigi</td>\n",
       "      <td>Nehudozhestvennaja literatura</td>\n",
       "    </tr>\n",
       "  </tbody>\n",
       "</table>\n",
       "</div>"
      ],
      "text/plain": [
       "    itemid category_name_1_level_en       category_name_2_level_en\n",
       "0  1037267                    Knigi                    Bukinistika\n",
       "1   965617                    Knigi    Hudozhestvennaja literatura\n",
       "2   965617                    Knigi                    Bukinistika\n",
       "3   627638                    Knigi                    Bukinistika\n",
       "4   627638                    Knigi  Nehudozhestvennaja literatura"
      ]
     },
     "execution_count": 16,
     "metadata": {},
     "output_type": "execute_result"
    }
   ],
   "source": [
    "categories.head()"
   ]
  },
  {
   "cell_type": "code",
   "execution_count": 18,
   "metadata": {},
   "outputs": [],
   "source": [
    "categories.to_pickle(\"data/categories.pkl\")"
   ]
  },
  {
   "cell_type": "code",
   "execution_count": 9,
   "metadata": {},
   "outputs": [],
   "source": [
    "import seaborn as sns"
   ]
  },
  {
   "cell_type": "code",
   "execution_count": 13,
   "metadata": {},
   "outputs": [],
   "source": [
    "val_cnt=categories['category_name_2_level_en'].value_counts()"
   ]
  },
  {
   "cell_type": "code",
   "execution_count": 26,
   "metadata": {},
   "outputs": [
    {
     "data": {
      "image/png": "[encoded data removed]",
      "text/plain": [
       "<Figure size 1440x720 with 1 Axes>"
      ]
     },
     "metadata": {
      "needs_background": "light"
     },
     "output_type": "display_data"
    }
   ],
   "source": [
    "import matplotlib.pyplot as plt\n",
    "fig, ax = plt.subplots(figsize=(20, 10))\n",
    "plt.hist(val_cnt.values[50:], bins=100);"
   ]
  },
  {
   "cell_type": "code",
   "execution_count": 27,
   "metadata": {},
   "outputs": [
    {
     "data": {
      "text/plain": [
       "Zhenschinam                                   264492\n",
       "Detjam                                        188052\n",
       "Muzhchinam                                    108139\n",
       "Posuda                                         98829\n",
       "Igrushki i igry                                89491\n",
       "                                               ...  \n",
       "Podpiski na elektronnye knigi i audioknigi         2\n",
       "Oblachnye hranilischa                              2\n",
       "Zakolki dlja volos                                 1\n",
       "Zaponki                                            1\n",
       "Oborudovanie dlja salonov krasoty                  1\n",
       "Name: category_name_2_level_en, Length: 264, dtype: int64"
      ]
     },
     "execution_count": 27,
     "metadata": {},
     "output_type": "execute_result"
    }
   ],
   "source": [
    "val_cnt"
   ]
  },
  {
   "cell_type": "code",
   "execution_count": 12,
   "metadata": {},
   "outputs": [
    {
     "data": {
      "text/html": [
       "<div>\n",
       "<style scoped>\n",
       "    .dataframe tbody tr th:only-of-type {\n",
       "        vertical-align: middle;\n",
       "    }\n",
       "\n",
       "    .dataframe tbody tr th {\n",
       "        vertical-align: top;\n",
       "    }\n",
       "\n",
       "    .dataframe thead th {\n",
       "        text-align: right;\n",
       "    }\n",
       "</style>\n",
       "<table border=\"1\" class=\"dataframe\">\n",
       "  <thead>\n",
       "    <tr style=\"text-align: right;\">\n",
       "      <th></th>\n",
       "      <th>itemid</th>\n",
       "      <th>catalogid</th>\n",
       "      <th>category_name_1_level_en</th>\n",
       "      <th>category_name_2_level_en</th>\n",
       "    </tr>\n",
       "  </thead>\n",
       "  <tbody>\n",
       "    <tr>\n",
       "      <th>0</th>\n",
       "      <td>100197</td>\n",
       "      <td>16546</td>\n",
       "      <td>Knigi</td>\n",
       "      <td>Bukinistika</td>\n",
       "    </tr>\n",
       "    <tr>\n",
       "      <th>1</th>\n",
       "      <td>1287542</td>\n",
       "      <td>33046</td>\n",
       "      <td>Knigi</td>\n",
       "      <td>Hudozhestvennaja literatura</td>\n",
       "    </tr>\n",
       "    <tr>\n",
       "      <th>2</th>\n",
       "      <td>1287542</td>\n",
       "      <td>33078</td>\n",
       "      <td>Knigi</td>\n",
       "      <td>Bukinistika</td>\n",
       "    </tr>\n",
       "    <tr>\n",
       "      <th>3</th>\n",
       "      <td>1337842</td>\n",
       "      <td>33083</td>\n",
       "      <td>Knigi</td>\n",
       "      <td>Bukinistika</td>\n",
       "    </tr>\n",
       "    <tr>\n",
       "      <th>4</th>\n",
       "      <td>1337842</td>\n",
       "      <td>40021</td>\n",
       "      <td>Knigi</td>\n",
       "      <td>Nehudozhestvennaja literatura</td>\n",
       "    </tr>\n",
       "  </tbody>\n",
       "</table>\n",
       "</div>"
      ],
      "text/plain": [
       "    itemid  catalogid category_name_1_level_en       category_name_2_level_en\n",
       "0   100197      16546                    Knigi                    Bukinistika\n",
       "1  1287542      33046                    Knigi    Hudozhestvennaja literatura\n",
       "2  1287542      33078                    Knigi                    Bukinistika\n",
       "3  1337842      33083                    Knigi                    Bukinistika\n",
       "4  1337842      40021                    Knigi  Nehudozhestvennaja literatura"
      ]
     },
     "execution_count": 12,
     "metadata": {},
     "output_type": "execute_result"
    }
   ],
   "source": [
    "#categories.to_pickle(\"categories.pkl\")"
   ]
  }
 ],
 "metadata": {
  "kernelspec": {
   "display_name": "Python 3",
   "language": "python",
   "name": "python3"
  },
  "language_info": {
   "codemirror_mode": {
    "name": "ipython",
    "version": 3
   },
   "file_extension": ".py",
   "mimetype": "text/x-python",
   "name": "python",
   "nbconvert_exporter": "python",
   "pygments_lexer": "ipython3",
   "version": "3.8.5"
  }
 },
 "nbformat": 4,
 "nbformat_minor": 4
}
