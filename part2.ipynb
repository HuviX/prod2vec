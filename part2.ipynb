{
 "cells": [
  {
   "cell_type": "code",
   "execution_count": 18,
   "metadata": {},
   "outputs": [],
   "source": [
    "import pandas as pd\n",
    "import pickle\n",
    "import numpy as np\n",
    "from matplotlib import pyplot as plt\n",
    "import seaborn as sns"
   ]
  },
  {
   "cell_type": "code",
   "execution_count": 19,
   "metadata": {
    "scrolled": false
   },
   "outputs": [
    {
     "name": "stdout",
     "output_type": "stream",
     "text": [
      "categories.pkl    num_of_to_cart.pkl   session_item_cart_add.npz\r\n",
      "df_features.pkl   num_of_view.pkl      session_item_view.npz\r\n",
      "df_scores.pkl     PAB_cart.npz         session_order.npz\r\n",
      "exploded_df.pkl   PAB_view.npz         similarities_cart_add.npz\r\n",
      "exp_test.pkl      PB_cart.npy          similarities_view.npz\r\n",
      "exp_train.pkl     PB_view.npy          top50.pkl\r\n",
      "item_mapping.pkl  processed.json\r\n",
      "num_of_order.pkl  reverse_mapping.pkl\r\n"
     ]
    }
   ],
   "source": [
    "ls data"
   ]
  },
  {
   "cell_type": "code",
   "execution_count": 20,
   "metadata": {},
   "outputs": [],
   "source": [
    "df = pd.read_pickle(\"data/df_scores.pkl\")"
   ]
  },
  {
   "cell_type": "code",
   "execution_count": 11,
   "metadata": {
    "scrolled": false
   },
   "outputs": [
    {
     "data": {
      "text/html": [
       "<div>\n",
       "<style scoped>\n",
       "    .dataframe tbody tr th:only-of-type {\n",
       "        vertical-align: middle;\n",
       "    }\n",
       "\n",
       "    .dataframe tbody tr th {\n",
       "        vertical-align: top;\n",
       "    }\n",
       "\n",
       "    .dataframe thead th {\n",
       "        text-align: right;\n",
       "    }\n",
       "</style>\n",
       "<table border=\"1\" class=\"dataframe\">\n",
       "  <thead>\n",
       "    <tr style=\"text-align: right;\">\n",
       "      <th></th>\n",
       "      <th>view</th>\n",
       "      <th>cart</th>\n",
       "      <th>order</th>\n",
       "      <th>w2vec_pred</th>\n",
       "      <th>cos_pred</th>\n",
       "      <th>top_pred</th>\n",
       "    </tr>\n",
       "  </thead>\n",
       "  <tbody>\n",
       "    <tr>\n",
       "      <th>0</th>\n",
       "      <td>[54712, 54714, 54719, 54720, 1892, 54723, 5472...</td>\n",
       "      <td>[54710, 54711, 54713, 54715, 7521, 54716, 5471...</td>\n",
       "      <td>[54715, 54718, 54711, 54726, 54724, 54716, 547...</td>\n",
       "      <td>[(699536, 0.9678006172180176), (1178128, 0.965...</td>\n",
       "      <td>[(349038, 0.5773502691896258), (936262, 0.5), ...</td>\n",
       "      <td>[54, 292, 13701, 1000, 65, 9761, 258, 2397, 52...</td>\n",
       "    </tr>\n",
       "    <tr>\n",
       "      <th>1</th>\n",
       "      <td>[547459]</td>\n",
       "      <td>[1813284]</td>\n",
       "      <td>[1813284]</td>\n",
       "      <td>[(827982, 0.8512779474258423), (369892, 0.8434...</td>\n",
       "      <td>[(547461, 0.35355339059327373), (547460, 0.353...</td>\n",
       "      <td>[54, 292, 13701, 1000, 65, 9761, 258, 2397, 52...</td>\n",
       "    </tr>\n",
       "    <tr>\n",
       "      <th>2</th>\n",
       "      <td>[256659, 159628]</td>\n",
       "      <td>[]</td>\n",
       "      <td>[461866]</td>\n",
       "      <td>[(256653, 0.8684725761413574), (256663, 0.8125...</td>\n",
       "      <td>[(256653, 0.3889222341312986), (816691, 0.3563...</td>\n",
       "      <td>[54, 292, 13701, 1000, 65, 9761, 258, 2397, 52...</td>\n",
       "    </tr>\n",
       "    <tr>\n",
       "      <th>3</th>\n",
       "      <td>[21910, 5478]</td>\n",
       "      <td>[346854, 14767, 3080, 43047, 5477]</td>\n",
       "      <td>[5477, 3080, 14767, 346854, 43047]</td>\n",
       "      <td>[(49398, 0.9022839069366455), (49365, 0.895142...</td>\n",
       "      <td>[(694721, 0.7071067811865475), (694717, 0.4999...</td>\n",
       "      <td>[54, 292, 13701, 1000, 65, 9761, 258, 2397, 52...</td>\n",
       "    </tr>\n",
       "    <tr>\n",
       "      <th>4</th>\n",
       "      <td>[370917, 370918]</td>\n",
       "      <td>[]</td>\n",
       "      <td>[370918]</td>\n",
       "      <td>[]</td>\n",
       "      <td>[(846754, 0.7071067811865475), (1377304, 0.707...</td>\n",
       "      <td>[54, 292, 13701, 1000, 65, 9761, 258, 2397, 52...</td>\n",
       "    </tr>\n",
       "  </tbody>\n",
       "</table>\n",
       "</div>"
      ],
      "text/plain": [
       "                                                view  \\\n",
       "0  [54712, 54714, 54719, 54720, 1892, 54723, 5472...   \n",
       "1                                           [547459]   \n",
       "2                                   [256659, 159628]   \n",
       "3                                      [21910, 5478]   \n",
       "4                                   [370917, 370918]   \n",
       "\n",
       "                                                cart  \\\n",
       "0  [54710, 54711, 54713, 54715, 7521, 54716, 5471...   \n",
       "1                                          [1813284]   \n",
       "2                                                 []   \n",
       "3                 [346854, 14767, 3080, 43047, 5477]   \n",
       "4                                                 []   \n",
       "\n",
       "                                               order  \\\n",
       "0  [54715, 54718, 54711, 54726, 54724, 54716, 547...   \n",
       "1                                          [1813284]   \n",
       "2                                           [461866]   \n",
       "3                 [5477, 3080, 14767, 346854, 43047]   \n",
       "4                                           [370918]   \n",
       "\n",
       "                                          w2vec_pred  \\\n",
       "0  [(699536, 0.9678006172180176), (1178128, 0.965...   \n",
       "1  [(827982, 0.8512779474258423), (369892, 0.8434...   \n",
       "2  [(256653, 0.8684725761413574), (256663, 0.8125...   \n",
       "3  [(49398, 0.9022839069366455), (49365, 0.895142...   \n",
       "4                                                 []   \n",
       "\n",
       "                                            cos_pred  \\\n",
       "0  [(349038, 0.5773502691896258), (936262, 0.5), ...   \n",
       "1  [(547461, 0.35355339059327373), (547460, 0.353...   \n",
       "2  [(256653, 0.3889222341312986), (816691, 0.3563...   \n",
       "3  [(694721, 0.7071067811865475), (694717, 0.4999...   \n",
       "4  [(846754, 0.7071067811865475), (1377304, 0.707...   \n",
       "\n",
       "                                            top_pred  \n",
       "0  [54, 292, 13701, 1000, 65, 9761, 258, 2397, 52...  \n",
       "1  [54, 292, 13701, 1000, 65, 9761, 258, 2397, 52...  \n",
       "2  [54, 292, 13701, 1000, 65, 9761, 258, 2397, 52...  \n",
       "3  [54, 292, 13701, 1000, 65, 9761, 258, 2397, 52...  \n",
       "4  [54, 292, 13701, 1000, 65, 9761, 258, 2397, 52...  "
      ]
     },
     "execution_count": 11,
     "metadata": {},
     "output_type": "execute_result"
    }
   ],
   "source": [
    "df.head()"
   ]
  },
  {
   "cell_type": "code",
   "execution_count": 21,
   "metadata": {},
   "outputs": [
    {
     "name": "stderr",
     "output_type": "stream",
     "text": [
      "/home/huvi/anaconda3/envs/ozon/lib/python3.8/site-packages/numpy/core/fromnumeric.py:3372: RuntimeWarning: Mean of empty slice.\n",
      "  return _methods._mean(a, axis=axis, dtype=dtype,\n"
     ]
    }
   ],
   "source": [
    "def avg_score(x):\n",
    "    return np.mean([i[1] for i in x])\n",
    "def sum_score(x):\n",
    "    return sum(i[1] for i in x)\n",
    "\n",
    "df['avg_w2vec'] = df['w2vec_pred'].apply(avg_score)\n",
    "df['avg_cosine'] = df['cos_pred'].apply(avg_score)\n",
    "\n",
    "df['sum_w2vec'] = df['w2vec_pred'].apply(sum_score)\n",
    "df['sum_cosine'] = df['cos_pred'].apply(sum_score)\n",
    "\n",
    "df['len_of_w2vec'] = df['w2vec_pred'].apply(lambda x: len(x))\n",
    "df['len_of_cos'] = df['cos_pred'].apply(lambda x: len(x))\n",
    "df['len_of_pred'] = df['len_of_cos']+df['len_of_w2vec']\n",
    "\n",
    "df['ovr_pred'] = df['w2vec_pred'] + df['cos_pred']\n",
    "\n",
    "df['mean_ovr'] = df['ovr_pred'].apply(avg_score)\n",
    "df['sum_ovr'] = df['ovr_pred'].apply(sum_score)"
   ]
  },
  {
   "cell_type": "code",
   "execution_count": 23,
   "metadata": {
    "scrolled": false
   },
   "outputs": [
    {
     "data": {
      "text/html": [
       "<div>\n",
       "<style scoped>\n",
       "    .dataframe tbody tr th:only-of-type {\n",
       "        vertical-align: middle;\n",
       "    }\n",
       "\n",
       "    .dataframe tbody tr th {\n",
       "        vertical-align: top;\n",
       "    }\n",
       "\n",
       "    .dataframe thead th {\n",
       "        text-align: right;\n",
       "    }\n",
       "</style>\n",
       "<table border=\"1\" class=\"dataframe\">\n",
       "  <thead>\n",
       "    <tr style=\"text-align: right;\">\n",
       "      <th></th>\n",
       "      <th>view</th>\n",
       "      <th>cart</th>\n",
       "      <th>order</th>\n",
       "      <th>w2vec_pred</th>\n",
       "      <th>cos_pred</th>\n",
       "      <th>top_pred</th>\n",
       "      <th>avg_w2vec</th>\n",
       "      <th>avg_cosine</th>\n",
       "      <th>sum_w2vec</th>\n",
       "      <th>sum_cosine</th>\n",
       "      <th>len_of_w2vec</th>\n",
       "      <th>len_of_cos</th>\n",
       "      <th>len_of_pred</th>\n",
       "      <th>ovr_pred</th>\n",
       "      <th>mean_ovr</th>\n",
       "      <th>sum_ovr</th>\n",
       "      <th>intersection_w2vec</th>\n",
       "      <th>intersection_cosine</th>\n",
       "    </tr>\n",
       "  </thead>\n",
       "  <tbody>\n",
       "    <tr>\n",
       "      <th>0</th>\n",
       "      <td>[54712, 54714, 54719, 54720, 1892, 54723, 5472...</td>\n",
       "      <td>[54710, 54711, 54713, 54715, 7521, 54716, 5471...</td>\n",
       "      <td>[54715, 54718, 54711, 54726, 54724, 54716, 547...</td>\n",
       "      <td>[(699536, 0.9678006172180176), (1178128, 0.965...</td>\n",
       "      <td>[(349038, 0.5773502691896258), (936262, 0.5), ...</td>\n",
       "      <td>[54, 292, 13701, 1000, 65, 9761, 258, 2397, 52...</td>\n",
       "      <td>0.944428</td>\n",
       "      <td>0.454887</td>\n",
       "      <td>47.221410</td>\n",
       "      <td>22.744328</td>\n",
       "      <td>50</td>\n",
       "      <td>50</td>\n",
       "      <td>100</td>\n",
       "      <td>[(699536, 0.9678006172180176), (1178128, 0.965...</td>\n",
       "      <td>0.699657</td>\n",
       "      <td>69.965738</td>\n",
       "      <td>0</td>\n",
       "      <td>0</td>\n",
       "    </tr>\n",
       "    <tr>\n",
       "      <th>1</th>\n",
       "      <td>[547459]</td>\n",
       "      <td>[1813284]</td>\n",
       "      <td>[1813284]</td>\n",
       "      <td>[(827982, 0.8512779474258423), (369892, 0.8434...</td>\n",
       "      <td>[(547461, 0.35355339059327373), (547460, 0.353...</td>\n",
       "      <td>[54, 292, 13701, 1000, 65, 9761, 258, 2397, 52...</td>\n",
       "      <td>0.803053</td>\n",
       "      <td>0.247118</td>\n",
       "      <td>40.152634</td>\n",
       "      <td>12.355924</td>\n",
       "      <td>50</td>\n",
       "      <td>50</td>\n",
       "      <td>100</td>\n",
       "      <td>[(827982, 0.8512779474258423), (369892, 0.8434...</td>\n",
       "      <td>0.525086</td>\n",
       "      <td>52.508558</td>\n",
       "      <td>0</td>\n",
       "      <td>0</td>\n",
       "    </tr>\n",
       "    <tr>\n",
       "      <th>2</th>\n",
       "      <td>[256659, 159628]</td>\n",
       "      <td>[]</td>\n",
       "      <td>[461866]</td>\n",
       "      <td>[(256653, 0.8684725761413574), (256663, 0.8125...</td>\n",
       "      <td>[(256653, 0.3889222341312986), (816691, 0.3563...</td>\n",
       "      <td>[54, 292, 13701, 1000, 65, 9761, 258, 2397, 52...</td>\n",
       "      <td>0.716076</td>\n",
       "      <td>0.258081</td>\n",
       "      <td>35.803780</td>\n",
       "      <td>12.904033</td>\n",
       "      <td>50</td>\n",
       "      <td>50</td>\n",
       "      <td>100</td>\n",
       "      <td>[(256653, 0.8684725761413574), (256663, 0.8125...</td>\n",
       "      <td>0.487078</td>\n",
       "      <td>48.707814</td>\n",
       "      <td>0</td>\n",
       "      <td>0</td>\n",
       "    </tr>\n",
       "    <tr>\n",
       "      <th>3</th>\n",
       "      <td>[21910, 5478]</td>\n",
       "      <td>[346854, 14767, 3080, 43047, 5477]</td>\n",
       "      <td>[5477, 3080, 14767, 346854, 43047]</td>\n",
       "      <td>[(49398, 0.9022839069366455), (49365, 0.895142...</td>\n",
       "      <td>[(694721, 0.7071067811865475), (694717, 0.4999...</td>\n",
       "      <td>[54, 292, 13701, 1000, 65, 9761, 258, 2397, 52...</td>\n",
       "      <td>0.870689</td>\n",
       "      <td>0.172016</td>\n",
       "      <td>43.534465</td>\n",
       "      <td>8.600798</td>\n",
       "      <td>50</td>\n",
       "      <td>50</td>\n",
       "      <td>100</td>\n",
       "      <td>[(49398, 0.9022839069366455), (49365, 0.895142...</td>\n",
       "      <td>0.521353</td>\n",
       "      <td>52.135262</td>\n",
       "      <td>0</td>\n",
       "      <td>0</td>\n",
       "    </tr>\n",
       "    <tr>\n",
       "      <th>4</th>\n",
       "      <td>[370917, 370918]</td>\n",
       "      <td>[]</td>\n",
       "      <td>[370918]</td>\n",
       "      <td>[]</td>\n",
       "      <td>[(846754, 0.7071067811865475), (1377304, 0.707...</td>\n",
       "      <td>[54, 292, 13701, 1000, 65, 9761, 258, 2397, 52...</td>\n",
       "      <td>NaN</td>\n",
       "      <td>0.480525</td>\n",
       "      <td>0.000000</td>\n",
       "      <td>3.844202</td>\n",
       "      <td>0</td>\n",
       "      <td>8</td>\n",
       "      <td>8</td>\n",
       "      <td>[(846754, 0.7071067811865475), (1377304, 0.707...</td>\n",
       "      <td>0.480525</td>\n",
       "      <td>3.844202</td>\n",
       "      <td>0</td>\n",
       "      <td>0</td>\n",
       "    </tr>\n",
       "  </tbody>\n",
       "</table>\n",
       "</div>"
      ],
      "text/plain": [
       "                                                view  \\\n",
       "0  [54712, 54714, 54719, 54720, 1892, 54723, 5472...   \n",
       "1                                           [547459]   \n",
       "2                                   [256659, 159628]   \n",
       "3                                      [21910, 5478]   \n",
       "4                                   [370917, 370918]   \n",
       "\n",
       "                                                cart  \\\n",
       "0  [54710, 54711, 54713, 54715, 7521, 54716, 5471...   \n",
       "1                                          [1813284]   \n",
       "2                                                 []   \n",
       "3                 [346854, 14767, 3080, 43047, 5477]   \n",
       "4                                                 []   \n",
       "\n",
       "                                               order  \\\n",
       "0  [54715, 54718, 54711, 54726, 54724, 54716, 547...   \n",
       "1                                          [1813284]   \n",
       "2                                           [461866]   \n",
       "3                 [5477, 3080, 14767, 346854, 43047]   \n",
       "4                                           [370918]   \n",
       "\n",
       "                                          w2vec_pred  \\\n",
       "0  [(699536, 0.9678006172180176), (1178128, 0.965...   \n",
       "1  [(827982, 0.8512779474258423), (369892, 0.8434...   \n",
       "2  [(256653, 0.8684725761413574), (256663, 0.8125...   \n",
       "3  [(49398, 0.9022839069366455), (49365, 0.895142...   \n",
       "4                                                 []   \n",
       "\n",
       "                                            cos_pred  \\\n",
       "0  [(349038, 0.5773502691896258), (936262, 0.5), ...   \n",
       "1  [(547461, 0.35355339059327373), (547460, 0.353...   \n",
       "2  [(256653, 0.3889222341312986), (816691, 0.3563...   \n",
       "3  [(694721, 0.7071067811865475), (694717, 0.4999...   \n",
       "4  [(846754, 0.7071067811865475), (1377304, 0.707...   \n",
       "\n",
       "                                            top_pred  avg_w2vec  avg_cosine  \\\n",
       "0  [54, 292, 13701, 1000, 65, 9761, 258, 2397, 52...   0.944428    0.454887   \n",
       "1  [54, 292, 13701, 1000, 65, 9761, 258, 2397, 52...   0.803053    0.247118   \n",
       "2  [54, 292, 13701, 1000, 65, 9761, 258, 2397, 52...   0.716076    0.258081   \n",
       "3  [54, 292, 13701, 1000, 65, 9761, 258, 2397, 52...   0.870689    0.172016   \n",
       "4  [54, 292, 13701, 1000, 65, 9761, 258, 2397, 52...        NaN    0.480525   \n",
       "\n",
       "   sum_w2vec  sum_cosine  len_of_w2vec  len_of_cos  len_of_pred  \\\n",
       "0  47.221410   22.744328            50          50          100   \n",
       "1  40.152634   12.355924            50          50          100   \n",
       "2  35.803780   12.904033            50          50          100   \n",
       "3  43.534465    8.600798            50          50          100   \n",
       "4   0.000000    3.844202             0           8            8   \n",
       "\n",
       "                                            ovr_pred  mean_ovr    sum_ovr  \\\n",
       "0  [(699536, 0.9678006172180176), (1178128, 0.965...  0.699657  69.965738   \n",
       "1  [(827982, 0.8512779474258423), (369892, 0.8434...  0.525086  52.508558   \n",
       "2  [(256653, 0.8684725761413574), (256663, 0.8125...  0.487078  48.707814   \n",
       "3  [(49398, 0.9022839069366455), (49365, 0.895142...  0.521353  52.135262   \n",
       "4  [(846754, 0.7071067811865475), (1377304, 0.707...  0.480525   3.844202   \n",
       "\n",
       "   intersection_w2vec  intersection_cosine  \n",
       "0                   0                    0  \n",
       "1                   0                    0  \n",
       "2                   0                    0  \n",
       "3                   0                    0  \n",
       "4                   0                    0  "
      ]
     },
     "execution_count": 23,
     "metadata": {},
     "output_type": "execute_result"
    }
   ],
   "source": [
    "df.head()"
   ]
  },
  {
   "cell_type": "code",
   "execution_count": 22,
   "metadata": {},
   "outputs": [],
   "source": [
    "top_pred = df.iloc[0, 5]\n",
    "def intersection_with_top(x):\n",
    "    return np.intersect1d(top_pred, x).shape[0]\n",
    "\n",
    "df['intersection_w2vec'] = df['w2vec_pred'].apply(intersection_with_top)\n",
    "df['intersection_cosine'] = df['cos_pred'].apply(intersection_with_top)"
   ]
  },
  {
   "cell_type": "code",
   "execution_count": 8,
   "metadata": {},
   "outputs": [
    {
     "data": {
      "text/plain": [
       "<AxesSubplot:>"
      ]
     },
     "execution_count": 8,
     "metadata": {},
     "output_type": "execute_result"
    },
    {
     "data": {
      "image/png": "[encoded data removed]",
      "text/plain": [
       "<Figure size 1440x720 with 1 Axes>"
      ]
     },
     "metadata": {
      "needs_background": "light"
     },
     "output_type": "display_data"
    }
   ],
   "source": [
    "fig, ax = plt.subplots(figsize=(20, 10))\n",
    "cntr = df['intersection_w2vec'].value_counts()\n",
    "sns.barplot(x=cntr.index[1:], y=cntr.values[1:])"
   ]
  },
  {
   "cell_type": "code",
   "execution_count": 9,
   "metadata": {},
   "outputs": [
    {
     "data": {
      "text/plain": [
       "<AxesSubplot:>"
      ]
     },
     "execution_count": 9,
     "metadata": {},
     "output_type": "execute_result"
    },
    {
     "data": {
      "image/png": "[encoded data removed]",
      "text/plain": [
       "<Figure size 1440x720 with 1 Axes>"
      ]
     },
     "metadata": {
      "needs_background": "light"
     },
     "output_type": "display_data"
    }
   ],
   "source": [
    "fig, ax = plt.subplots(figsize=(20, 10))\n",
    "cntr = df['intersection_cosine'].value_counts()\n",
    "sns.barplot(x=cntr.index[1:], y=cntr.values[1:])"
   ]
  },
  {
   "cell_type": "code",
   "execution_count": 10,
   "metadata": {},
   "outputs": [
    {
     "data": {
      "text/plain": [
       "<AxesSubplot:>"
      ]
     },
     "execution_count": 10,
     "metadata": {},
     "output_type": "execute_result"
    },
    {
     "data": {
      "image/png": "[encoded data removed]",
      "text/plain": [
       "<Figure size 1440x720 with 1 Axes>"
      ]
     },
     "metadata": {
      "needs_background": "light"
     },
     "output_type": "display_data"
    }
   ],
   "source": [
    "fig, ax = plt.subplots(figsize=(20, 10))\n",
    "cntr = df['len_of_pred'].value_counts()\n",
    "sns.barplot(x=cntr.index[1:], y=cntr.values[1:])"
   ]
  },
  {
   "cell_type": "code",
   "execution_count": 11,
   "metadata": {},
   "outputs": [
    {
     "data": {
      "text/plain": [
       "<AxesSubplot:>"
      ]
     },
     "execution_count": 11,
     "metadata": {},
     "output_type": "execute_result"
    },
    {
     "data": {
      "image/png": "[encoded data removed]",
      "text/plain": [
       "<Figure size 1440x720 with 1 Axes>"
      ]
     },
     "metadata": {
      "needs_background": "light"
     },
     "output_type": "display_data"
    }
   ],
   "source": [
    "fig, ax = plt.subplots(figsize=(20, 10))\n",
    "cntr = df['len_of_cos'].value_counts()\n",
    "sns.barplot(x=cntr.index[:], y=cntr.values[:])"
   ]
  },
  {
   "cell_type": "code",
   "execution_count": 12,
   "metadata": {
    "scrolled": true
   },
   "outputs": [
    {
     "data": {
      "image/png": "[encoded data removed]",
      "text/plain": [
       "<Figure size 432x288 with 1 Axes>"
      ]
     },
     "metadata": {
      "needs_background": "light"
     },
     "output_type": "display_data"
    }
   ],
   "source": [
    "plt.hist(df['sum_ovr'], bins=100);"
   ]
  },
  {
   "cell_type": "code",
   "execution_count": 13,
   "metadata": {},
   "outputs": [
    {
     "data": {
      "image/png": "[encoded data removed]",
      "text/plain": [
       "<Figure size 432x288 with 1 Axes>"
      ]
     },
     "metadata": {
      "needs_background": "light"
     },
     "output_type": "display_data"
    }
   ],
   "source": [
    "plt.hist(df['mean_ovr'], bins=100);"
   ]
  },
  {
   "cell_type": "code",
   "execution_count": 24,
   "metadata": {},
   "outputs": [],
   "source": [
    "df['ovr_pred'] = df['w2vec_pred'] + df['cos_pred'] + df['top_pred']"
   ]
  },
  {
   "cell_type": "code",
   "execution_count": 25,
   "metadata": {},
   "outputs": [
    {
     "data": {
      "text/html": [
       "<div>\n",
       "<style scoped>\n",
       "    .dataframe tbody tr th:only-of-type {\n",
       "        vertical-align: middle;\n",
       "    }\n",
       "\n",
       "    .dataframe tbody tr th {\n",
       "        vertical-align: top;\n",
       "    }\n",
       "\n",
       "    .dataframe thead th {\n",
       "        text-align: right;\n",
       "    }\n",
       "</style>\n",
       "<table border=\"1\" class=\"dataframe\">\n",
       "  <thead>\n",
       "    <tr style=\"text-align: right;\">\n",
       "      <th></th>\n",
       "      <th>view</th>\n",
       "      <th>cart</th>\n",
       "      <th>order</th>\n",
       "      <th>w2vec_pred</th>\n",
       "      <th>cos_pred</th>\n",
       "      <th>top_pred</th>\n",
       "      <th>avg_w2vec</th>\n",
       "      <th>avg_cosine</th>\n",
       "      <th>sum_w2vec</th>\n",
       "      <th>sum_cosine</th>\n",
       "      <th>len_of_w2vec</th>\n",
       "      <th>len_of_cos</th>\n",
       "      <th>len_of_pred</th>\n",
       "      <th>ovr_pred</th>\n",
       "      <th>mean_ovr</th>\n",
       "      <th>sum_ovr</th>\n",
       "      <th>intersection_w2vec</th>\n",
       "      <th>intersection_cosine</th>\n",
       "    </tr>\n",
       "  </thead>\n",
       "  <tbody>\n",
       "    <tr>\n",
       "      <th>0</th>\n",
       "      <td>[54712, 54714, 54719, 54720, 1892, 54723, 5472...</td>\n",
       "      <td>[54710, 54711, 54713, 54715, 7521, 54716, 5471...</td>\n",
       "      <td>[54715, 54718, 54711, 54726, 54724, 54716, 547...</td>\n",
       "      <td>[(699536, 0.9678006172180176), (1178128, 0.965...</td>\n",
       "      <td>[(349038, 0.5773502691896258), (936262, 0.5), ...</td>\n",
       "      <td>[54, 292, 13701, 1000, 65, 9761, 258, 2397, 52...</td>\n",
       "      <td>0.944428</td>\n",
       "      <td>0.454887</td>\n",
       "      <td>47.221410</td>\n",
       "      <td>22.744328</td>\n",
       "      <td>50</td>\n",
       "      <td>50</td>\n",
       "      <td>100</td>\n",
       "      <td>[(699536, 0.9678006172180176), (1178128, 0.965...</td>\n",
       "      <td>0.699657</td>\n",
       "      <td>69.965738</td>\n",
       "      <td>0</td>\n",
       "      <td>0</td>\n",
       "    </tr>\n",
       "    <tr>\n",
       "      <th>1</th>\n",
       "      <td>[547459]</td>\n",
       "      <td>[1813284]</td>\n",
       "      <td>[1813284]</td>\n",
       "      <td>[(827982, 0.8512779474258423), (369892, 0.8434...</td>\n",
       "      <td>[(547461, 0.35355339059327373), (547460, 0.353...</td>\n",
       "      <td>[54, 292, 13701, 1000, 65, 9761, 258, 2397, 52...</td>\n",
       "      <td>0.803053</td>\n",
       "      <td>0.247118</td>\n",
       "      <td>40.152634</td>\n",
       "      <td>12.355924</td>\n",
       "      <td>50</td>\n",
       "      <td>50</td>\n",
       "      <td>100</td>\n",
       "      <td>[(827982, 0.8512779474258423), (369892, 0.8434...</td>\n",
       "      <td>0.525086</td>\n",
       "      <td>52.508558</td>\n",
       "      <td>0</td>\n",
       "      <td>0</td>\n",
       "    </tr>\n",
       "    <tr>\n",
       "      <th>2</th>\n",
       "      <td>[256659, 159628]</td>\n",
       "      <td>[]</td>\n",
       "      <td>[461866]</td>\n",
       "      <td>[(256653, 0.8684725761413574), (256663, 0.8125...</td>\n",
       "      <td>[(256653, 0.3889222341312986), (816691, 0.3563...</td>\n",
       "      <td>[54, 292, 13701, 1000, 65, 9761, 258, 2397, 52...</td>\n",
       "      <td>0.716076</td>\n",
       "      <td>0.258081</td>\n",
       "      <td>35.803780</td>\n",
       "      <td>12.904033</td>\n",
       "      <td>50</td>\n",
       "      <td>50</td>\n",
       "      <td>100</td>\n",
       "      <td>[(256653, 0.8684725761413574), (256663, 0.8125...</td>\n",
       "      <td>0.487078</td>\n",
       "      <td>48.707814</td>\n",
       "      <td>0</td>\n",
       "      <td>0</td>\n",
       "    </tr>\n",
       "    <tr>\n",
       "      <th>3</th>\n",
       "      <td>[21910, 5478]</td>\n",
       "      <td>[346854, 14767, 3080, 43047, 5477]</td>\n",
       "      <td>[5477, 3080, 14767, 346854, 43047]</td>\n",
       "      <td>[(49398, 0.9022839069366455), (49365, 0.895142...</td>\n",
       "      <td>[(694721, 0.7071067811865475), (694717, 0.4999...</td>\n",
       "      <td>[54, 292, 13701, 1000, 65, 9761, 258, 2397, 52...</td>\n",
       "      <td>0.870689</td>\n",
       "      <td>0.172016</td>\n",
       "      <td>43.534465</td>\n",
       "      <td>8.600798</td>\n",
       "      <td>50</td>\n",
       "      <td>50</td>\n",
       "      <td>100</td>\n",
       "      <td>[(49398, 0.9022839069366455), (49365, 0.895142...</td>\n",
       "      <td>0.521353</td>\n",
       "      <td>52.135262</td>\n",
       "      <td>0</td>\n",
       "      <td>0</td>\n",
       "    </tr>\n",
       "    <tr>\n",
       "      <th>4</th>\n",
       "      <td>[370917, 370918]</td>\n",
       "      <td>[]</td>\n",
       "      <td>[370918]</td>\n",
       "      <td>[]</td>\n",
       "      <td>[(846754, 0.7071067811865475), (1377304, 0.707...</td>\n",
       "      <td>[54, 292, 13701, 1000, 65, 9761, 258, 2397, 52...</td>\n",
       "      <td>NaN</td>\n",
       "      <td>0.480525</td>\n",
       "      <td>0.000000</td>\n",
       "      <td>3.844202</td>\n",
       "      <td>0</td>\n",
       "      <td>8</td>\n",
       "      <td>8</td>\n",
       "      <td>[(846754, 0.7071067811865475), (1377304, 0.707...</td>\n",
       "      <td>0.480525</td>\n",
       "      <td>3.844202</td>\n",
       "      <td>0</td>\n",
       "      <td>0</td>\n",
       "    </tr>\n",
       "  </tbody>\n",
       "</table>\n",
       "</div>"
      ],
      "text/plain": [
       "                                                view  \\\n",
       "0  [54712, 54714, 54719, 54720, 1892, 54723, 5472...   \n",
       "1                                           [547459]   \n",
       "2                                   [256659, 159628]   \n",
       "3                                      [21910, 5478]   \n",
       "4                                   [370917, 370918]   \n",
       "\n",
       "                                                cart  \\\n",
       "0  [54710, 54711, 54713, 54715, 7521, 54716, 5471...   \n",
       "1                                          [1813284]   \n",
       "2                                                 []   \n",
       "3                 [346854, 14767, 3080, 43047, 5477]   \n",
       "4                                                 []   \n",
       "\n",
       "                                               order  \\\n",
       "0  [54715, 54718, 54711, 54726, 54724, 54716, 547...   \n",
       "1                                          [1813284]   \n",
       "2                                           [461866]   \n",
       "3                 [5477, 3080, 14767, 346854, 43047]   \n",
       "4                                           [370918]   \n",
       "\n",
       "                                          w2vec_pred  \\\n",
       "0  [(699536, 0.9678006172180176), (1178128, 0.965...   \n",
       "1  [(827982, 0.8512779474258423), (369892, 0.8434...   \n",
       "2  [(256653, 0.8684725761413574), (256663, 0.8125...   \n",
       "3  [(49398, 0.9022839069366455), (49365, 0.895142...   \n",
       "4                                                 []   \n",
       "\n",
       "                                            cos_pred  \\\n",
       "0  [(349038, 0.5773502691896258), (936262, 0.5), ...   \n",
       "1  [(547461, 0.35355339059327373), (547460, 0.353...   \n",
       "2  [(256653, 0.3889222341312986), (816691, 0.3563...   \n",
       "3  [(694721, 0.7071067811865475), (694717, 0.4999...   \n",
       "4  [(846754, 0.7071067811865475), (1377304, 0.707...   \n",
       "\n",
       "                                            top_pred  avg_w2vec  avg_cosine  \\\n",
       "0  [54, 292, 13701, 1000, 65, 9761, 258, 2397, 52...   0.944428    0.454887   \n",
       "1  [54, 292, 13701, 1000, 65, 9761, 258, 2397, 52...   0.803053    0.247118   \n",
       "2  [54, 292, 13701, 1000, 65, 9761, 258, 2397, 52...   0.716076    0.258081   \n",
       "3  [54, 292, 13701, 1000, 65, 9761, 258, 2397, 52...   0.870689    0.172016   \n",
       "4  [54, 292, 13701, 1000, 65, 9761, 258, 2397, 52...        NaN    0.480525   \n",
       "\n",
       "   sum_w2vec  sum_cosine  len_of_w2vec  len_of_cos  len_of_pred  \\\n",
       "0  47.221410   22.744328            50          50          100   \n",
       "1  40.152634   12.355924            50          50          100   \n",
       "2  35.803780   12.904033            50          50          100   \n",
       "3  43.534465    8.600798            50          50          100   \n",
       "4   0.000000    3.844202             0           8            8   \n",
       "\n",
       "                                            ovr_pred  mean_ovr    sum_ovr  \\\n",
       "0  [(699536, 0.9678006172180176), (1178128, 0.965...  0.699657  69.965738   \n",
       "1  [(827982, 0.8512779474258423), (369892, 0.8434...  0.525086  52.508558   \n",
       "2  [(256653, 0.8684725761413574), (256663, 0.8125...  0.487078  48.707814   \n",
       "3  [(49398, 0.9022839069366455), (49365, 0.895142...  0.521353  52.135262   \n",
       "4  [(846754, 0.7071067811865475), (1377304, 0.707...  0.480525   3.844202   \n",
       "\n",
       "   intersection_w2vec  intersection_cosine  \n",
       "0                   0                    0  \n",
       "1                   0                    0  \n",
       "2                   0                    0  \n",
       "3                   0                    0  \n",
       "4                   0                    0  "
      ]
     },
     "execution_count": 25,
     "metadata": {},
     "output_type": "execute_result"
    }
   ],
   "source": [
    "df.head()"
   ]
  },
  {
   "cell_type": "code",
   "execution_count": 26,
   "metadata": {},
   "outputs": [],
   "source": [
    "df.to_pickle(\"data/df_features.pkl\")"
   ]
  },
  {
   "cell_type": "code",
   "execution_count": null,
   "metadata": {},
   "outputs": [],
   "source": []
  },
  {
   "cell_type": "code",
   "execution_count": null,
   "metadata": {},
   "outputs": [],
   "source": []
  }
 ],
 "metadata": {
  "kernelspec": {
   "display_name": "Python 3",
   "language": "python",
   "name": "python3"
  },
  "language_info": {
   "codemirror_mode": {
    "name": "ipython",
    "version": 3
   },
   "file_extension": ".py",
   "mimetype": "text/x-python",
   "name": "python",
   "nbconvert_exporter": "python",
   "pygments_lexer": "ipython3",
   "version": "3.8.5"
  }
 },
 "nbformat": 4,
 "nbformat_minor": 4
}
